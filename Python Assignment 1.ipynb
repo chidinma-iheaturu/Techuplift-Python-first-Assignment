{
 "cells": [
  {
   "cell_type": "markdown",
   "id": "e7536285",
   "metadata": {},
   "source": [
    "# Arithemtic Calculator"
   ]
  },
  {
   "cell_type": "code",
   "execution_count": null,
   "id": "4e135a0a",
   "metadata": {},
   "outputs": [],
   "source": [
    "'''\n",
    "    The Python script below is a simple calculator program,\n",
    "that allows the user to perform basic arithmetic operations such as;\n",
    "addition, subtraction, multiplication, division, modulus, floor division, and exponentiation on two input numbers. \n",
    "The program uses a calculator function to take the user input, perform the selected operation, and display the result. \n",
    "It includes error handling to catch invalid inputs, such as non-numeric values, and prevents division by zero.\n",
    "\n",
    "'''"
   ]
  },
  {
   "cell_type": "code",
   "execution_count": 8,
   "id": "407db0e9",
   "metadata": {},
   "outputs": [
    {
     "name": "stdout",
     "output_type": "stream",
     "text": [
      "Enter the first number: 5\n",
      "Enter the operation (+, -, *, /, %, //, ^): *\n",
      "Enter the second number: 5\n",
      "Result: 25\n",
      "\n",
      "Do you want to perform another calculation? (yes/no): yes\n",
      "Enter the first number: 4\n",
      "Enter the operation (+, -, *, /, %, //, ^): %\n",
      "Enter the second number: 4\n",
      "Result: 0\n",
      "\n",
      "Do you want to perform another calculation? (yes/no): no\n"
     ]
    }
   ],
   "source": [
    "# Define the function called calculator\n",
    "\n",
    "def calculator():\n",
    "    try:\n",
    "        num1 = int(input(\"Enter the first number: \"))\n",
    "        operation = input(\"Enter the operation (+, -, *, /, %, //, ^): \")\n",
    "        num2 = int(input(\"Enter the second number: \"))\n",
    "            \n",
    "        if operation == '+':\n",
    "            result = num1 + num2\n",
    "        elif operation == '-':\n",
    "            result = num1 - num2\n",
    "        elif operation == '*':\n",
    "            result = num1 * num2\n",
    "        elif operation == '/':\n",
    "            if num2 != 0:\n",
    "                result = num1 / num2\n",
    "            else:\n",
    "                result = \"Error: Cannot divide by zero\"\n",
    "        elif operation == '%':\n",
    "            if num2 != 0:\n",
    "                result = num1 % num2\n",
    "            else:\n",
    "                result = \"Error: Cannot divide by zero\"\n",
    "        elif operation == '//':\n",
    "            if num2 != 0:\n",
    "                result = num1 // num2\n",
    "            else:\n",
    "                result = \"Error: Cannot divide by zero\"\n",
    "        elif operation == '^':\n",
    "            result = num1 ** num2\n",
    "        else:\n",
    "            result = \"Error: Invalid operation\"\n",
    "            \n",
    "# Display the result of the operation\n",
    "\n",
    "        print(f\"Result: {result}\")\n",
    "    \n",
    "# Handle the case where the user enters non-numeric values\n",
    "\n",
    "    except ValueError:\n",
    "        print(\"Error: Please enter valid numeric values.\")\n",
    "        \n",
    "#loop for performing calculations\n",
    "\n",
    "while True:\n",
    "    calculator()\n",
    "    another_calculation = input(\"\\nDo you want to perform another calculation? (yes/no): \")\n",
    "    if another_calculation.lower() != 'yes':\n",
    "        break\n"
   ]
  },
  {
   "cell_type": "code",
   "execution_count": 7,
   "id": "fec5c154",
   "metadata": {},
   "outputs": [
    {
     "name": "stdout",
     "output_type": "stream",
     "text": [
      "Enter the first number: 4\n",
      "Enter the operation (+, -, *, /, %, //, ^): +\n",
      "Enter the second number: g\n",
      "Error: Please enter valid numeric values.\n"
     ]
    }
   ],
   "source": [
    "calculator()"
   ]
  },
  {
   "cell_type": "code",
   "execution_count": null,
   "id": "db6f89f6",
   "metadata": {},
   "outputs": [],
   "source": []
  },
  {
   "cell_type": "code",
   "execution_count": null,
   "id": "6f0e5ef4",
   "metadata": {},
   "outputs": [],
   "source": []
  },
  {
   "cell_type": "code",
   "execution_count": null,
   "id": "33442bd4",
   "metadata": {},
   "outputs": [],
   "source": []
  }
 ],
 "metadata": {
  "kernelspec": {
   "display_name": "Python 3 (ipykernel)",
   "language": "python",
   "name": "python3"
  },
  "language_info": {
   "codemirror_mode": {
    "name": "ipython",
    "version": 3
   },
   "file_extension": ".py",
   "mimetype": "text/x-python",
   "name": "python",
   "nbconvert_exporter": "python",
   "pygments_lexer": "ipython3",
   "version": "3.11.4"
  }
 },
 "nbformat": 4,
 "nbformat_minor": 5
}
